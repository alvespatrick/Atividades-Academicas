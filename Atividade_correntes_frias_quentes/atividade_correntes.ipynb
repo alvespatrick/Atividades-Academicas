{
 "cells": [
  {
   "cell_type": "code",
   "execution_count": 1,
   "id": "dc2ce3b6",
   "metadata": {},
   "outputs": [],
   "source": [
    "import pandas as pd\n",
    "import numpy as np"
   ]
  },
  {
   "cell_type": "code",
   "execution_count": 2,
   "id": "ed8cb19a",
   "metadata": {},
   "outputs": [
    {
     "data": {
      "text/html": [
       "<div>\n",
       "<style scoped>\n",
       "    .dataframe tbody tr th:only-of-type {\n",
       "        vertical-align: middle;\n",
       "    }\n",
       "\n",
       "    .dataframe tbody tr th {\n",
       "        vertical-align: top;\n",
       "    }\n",
       "\n",
       "    .dataframe thead th {\n",
       "        text-align: right;\n",
       "    }\n",
       "</style>\n",
       "<table border=\"1\" class=\"dataframe\">\n",
       "  <thead>\n",
       "    <tr style=\"text-align: right;\">\n",
       "      <th></th>\n",
       "      <th>Corrente</th>\n",
       "      <th>WCp</th>\n",
       "      <th>To</th>\n",
       "      <th>Td</th>\n",
       "    </tr>\n",
       "  </thead>\n",
       "  <tbody>\n",
       "    <tr>\n",
       "      <th>0</th>\n",
       "      <td>Q1</td>\n",
       "      <td>23465</td>\n",
       "      <td>160</td>\n",
       "      <td>90</td>\n",
       "    </tr>\n",
       "    <tr>\n",
       "      <th>1</th>\n",
       "      <td>Q2</td>\n",
       "      <td>4693</td>\n",
       "      <td>250</td>\n",
       "      <td>140</td>\n",
       "    </tr>\n",
       "    <tr>\n",
       "      <th>2</th>\n",
       "      <td>F1</td>\n",
       "      <td>11732</td>\n",
       "      <td>60</td>\n",
       "      <td>140</td>\n",
       "    </tr>\n",
       "    <tr>\n",
       "      <th>3</th>\n",
       "      <td>F2</td>\n",
       "      <td>16425</td>\n",
       "      <td>110</td>\n",
       "      <td>230</td>\n",
       "    </tr>\n",
       "  </tbody>\n",
       "</table>\n",
       "</div>"
      ],
      "text/plain": [
       "  Corrente    WCp   To   Td\n",
       "0       Q1  23465  160   90\n",
       "1       Q2   4693  250  140\n",
       "2       F1  11732   60  140\n",
       "3       F2  16425  110  230"
      ]
     },
     "execution_count": 2,
     "metadata": {},
     "output_type": "execute_result"
    }
   ],
   "source": [
    "df = pd.read_excel('Dados.xlsx')\n",
    "df"
   ]
  },
  {
   "cell_type": "code",
   "execution_count": 3,
   "id": "2db9e3a3",
   "metadata": {},
   "outputs": [
    {
     "data": {
      "text/plain": [
       "4"
      ]
     },
     "execution_count": 3,
     "metadata": {},
     "output_type": "execute_result"
    }
   ],
   "source": [
    "total_correntes = df.shape[0]\n",
    "total_correntes"
   ]
  },
  {
   "cell_type": "code",
   "execution_count": 4,
   "id": "bb91693e",
   "metadata": {},
   "outputs": [
    {
     "data": {
      "text/html": [
       "<div>\n",
       "<style scoped>\n",
       "    .dataframe tbody tr th:only-of-type {\n",
       "        vertical-align: middle;\n",
       "    }\n",
       "\n",
       "    .dataframe tbody tr th {\n",
       "        vertical-align: top;\n",
       "    }\n",
       "\n",
       "    .dataframe thead th {\n",
       "        text-align: right;\n",
       "    }\n",
       "</style>\n",
       "<table border=\"1\" class=\"dataframe\">\n",
       "  <thead>\n",
       "    <tr style=\"text-align: right;\">\n",
       "      <th></th>\n",
       "      <th>Corrente</th>\n",
       "      <th>WCp</th>\n",
       "      <th>To</th>\n",
       "      <th>Td</th>\n",
       "      <th>Tipo de Corrente</th>\n",
       "      <th>Intervalo de Temperatura (ºC)</th>\n",
       "      <th>Oferta/Demanda</th>\n",
       "    </tr>\n",
       "  </thead>\n",
       "  <tbody>\n",
       "    <tr>\n",
       "      <th>0</th>\n",
       "      <td>Q1</td>\n",
       "      <td>23465</td>\n",
       "      <td>160</td>\n",
       "      <td>90</td>\n",
       "      <td>Quente</td>\n",
       "      <td>160 - 90</td>\n",
       "      <td>1642550</td>\n",
       "    </tr>\n",
       "    <tr>\n",
       "      <th>1</th>\n",
       "      <td>Q2</td>\n",
       "      <td>4693</td>\n",
       "      <td>250</td>\n",
       "      <td>140</td>\n",
       "      <td>Quente</td>\n",
       "      <td>250 - 140</td>\n",
       "      <td>516230</td>\n",
       "    </tr>\n",
       "    <tr>\n",
       "      <th>2</th>\n",
       "      <td>F1</td>\n",
       "      <td>11732</td>\n",
       "      <td>60</td>\n",
       "      <td>140</td>\n",
       "      <td>Fria</td>\n",
       "      <td>60 - 140</td>\n",
       "      <td>938560</td>\n",
       "    </tr>\n",
       "    <tr>\n",
       "      <th>3</th>\n",
       "      <td>F2</td>\n",
       "      <td>16425</td>\n",
       "      <td>110</td>\n",
       "      <td>230</td>\n",
       "      <td>Fria</td>\n",
       "      <td>110 - 230</td>\n",
       "      <td>1971000</td>\n",
       "    </tr>\n",
       "  </tbody>\n",
       "</table>\n",
       "</div>"
      ],
      "text/plain": [
       "  Corrente    WCp   To   Td Tipo de Corrente Intervalo de Temperatura (ºC)  \\\n",
       "0       Q1  23465  160   90           Quente                      160 - 90   \n",
       "1       Q2   4693  250  140           Quente                     250 - 140   \n",
       "2       F1  11732   60  140             Fria                      60 - 140   \n",
       "3       F2  16425  110  230             Fria                     110 - 230   \n",
       "\n",
       "   Oferta/Demanda  \n",
       "0         1642550  \n",
       "1          516230  \n",
       "2          938560  \n",
       "3         1971000  "
      ]
     },
     "execution_count": 4,
     "metadata": {},
     "output_type": "execute_result"
    }
   ],
   "source": [
    "tfinal, tinicial = np.array(df['Td']), np.array(df['To'])\n",
    "dif_temperatura = tfinal - tinicial\n",
    "data = np.array(['Fria' if info > 0 else 'Quente' for info in dif_temperatura])\n",
    "df['Tipo de Corrente'] = data\n",
    "\n",
    "data = np.array([f'{ini} - {fim}' for ini, fim in zip(tinicial, tfinal)])\n",
    "df['Intervalo de Temperatura (ºC)'] = data\n",
    "\n",
    "data = np.array([dif*coef if dif>0 else -dif*coef for dif, coef in zip(dif_temperatura, df['WCp'])])\n",
    "df['Oferta/Demanda'] = data\n",
    "df"
   ]
  },
  {
   "cell_type": "code",
   "execution_count": 5,
   "id": "0666ea8c",
   "metadata": {},
   "outputs": [
    {
     "data": {
      "text/plain": [
       "(2158780, 2909560)"
      ]
     },
     "execution_count": 5,
     "metadata": {},
     "output_type": "execute_result"
    }
   ],
   "source": [
    "oferta = df.loc[df['Tipo de Corrente'] == \"Quente\"]['Oferta/Demanda'].sum()\n",
    "demanda = df.loc[df['Tipo de Corrente'] == \"Fria\"]['Oferta/Demanda'].sum()\n",
    "oferta, demanda"
   ]
  },
  {
   "cell_type": "code",
   "execution_count": 6,
   "id": "65eb48ca",
   "metadata": {},
   "outputs": [],
   "source": [
    "min_vapor = demanda - oferta if demanda - oferta > 0 else 0\n",
    "min_agua = oferta - demanda if oferta - demanda > 0 else 0"
   ]
  },
  {
   "cell_type": "code",
   "execution_count": 7,
   "id": "3eeca990",
   "metadata": {},
   "outputs": [
    {
     "name": "stdout",
     "output_type": "stream",
     "text": [
      "Intervalos de temperatura: 4\n",
      "Oferta total: 2158780kW\n",
      "Demanda total: 2909560kW\n",
      "Consumo mínimo de vapor: 750780kW\n",
      "Consumo mínimo de água: 0kW\n",
      "\n"
     ]
    }
   ],
   "source": [
    "print(f'Intervalos de temperatura: {total_correntes}\\nOferta total: {oferta}kW\\nDemanda total: {demanda}kW\\nConsumo mínimo de vapor: {min_vapor}kW\\nConsumo mínimo de água: {min_agua}kW\\n')"
   ]
  },
  {
   "cell_type": "code",
   "execution_count": null,
   "id": "ed65cc97",
   "metadata": {},
   "outputs": [],
   "source": []
  }
 ],
 "metadata": {
  "kernelspec": {
   "display_name": "Python 3 (ipykernel)",
   "language": "python",
   "name": "python3"
  },
  "language_info": {
   "codemirror_mode": {
    "name": "ipython",
    "version": 3
   },
   "file_extension": ".py",
   "mimetype": "text/x-python",
   "name": "python",
   "nbconvert_exporter": "python",
   "pygments_lexer": "ipython3",
   "version": "3.9.7"
  }
 },
 "nbformat": 4,
 "nbformat_minor": 5
}
